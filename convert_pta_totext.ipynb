{
 "cells": [
  {
   "cell_type": "code",
   "execution_count": 1,
   "metadata": {},
   "outputs": [],
   "source": [
    "import os, glob, re, json\n",
    "from lxml import etree\n",
    "import pandas as pd"
   ]
  },
  {
   "cell_type": "code",
   "execution_count": 2,
   "metadata": {},
   "outputs": [],
   "source": [
    "def clean(text):\n",
    "    \"\"\"Remove superfluous spaces and linebreaks from extracted text\"\"\"\n",
    "    cleaned = re.sub(\"\\n\",\"\",text)\n",
    "    cleaned = re.sub(\"\\t\",\"\",cleaned)\n",
    "    cleaned = re.sub(\"\\\\s{2,}\",\" \",cleaned)\n",
    "    cleaned = re.sub(r'’',r'ʼ', cleaned) # change Apostrophe from U+2019 to U+02BC for better compatability with grc\n",
    "    return cleaned"
   ]
  },
  {
   "cell_type": "markdown",
   "metadata": {},
   "source": [
    "## Plaintext"
   ]
  },
  {
   "cell_type": "code",
   "execution_count": 183,
   "metadata": {},
   "outputs": [],
   "source": [
    "def extract_plaintext_from_tei(file_path, exclude_tags):\n",
    "    \"\"\"\n",
    "    Extracts plaintext from a TEI XML file, specifically from the <text> element,\n",
    "    excluding specified elements and their text.\n",
    "\n",
    "    Args:\n",
    "        file_path (str): The path to the TEI XML file.\n",
    "        exclude_tags (list): A list of tag names to exclude (e.g., ['note', 'stage']).\n",
    "\n",
    "    Returns:\n",
    "        str: The extracted plaintext from the <text> element, excluding specified elements.\n",
    "    \"\"\"\n",
    "    try:\n",
    "        # Parse the TEI XML file\n",
    "        tree = etree.parse(file_path)\n",
    "        \n",
    "        # Define the TEI namespace\n",
    "        ns = {'tei': 'http://www.tei-c.org/ns/1.0'}  # Adjust the namespace URI if necessary\n",
    "        \n",
    "        # Find the <text> element in the TEI namespace\n",
    "        text_element = tree.find(\".//tei:text\", namespaces=ns)\n",
    "        \n",
    "        if text_element is not None:\n",
    "            # Remove praefatio from <text> element if it's there\n",
    "            if tree.find(\".//tei:div[@type='praefatio']\", namespaces=ns) is not None:\n",
    "                for element in tree.find(\".//tei:div[@type='praefatio']\", namespaces=ns):\n",
    "                    element.getparent().remove(element)\n",
    "            # Remove specified elements from the <text> element\n",
    "            for tag in exclude_tags:\n",
    "                for element in text_element.findall(f'.//tei:{tag}', namespaces=ns):\n",
    "                    element.getparent().remove(element)\n",
    "            \n",
    "            # Extract the remaining text\n",
    "            plaintext = text_element.xpath('string()')  # Get all text under <text>\n",
    "            return clean(plaintext.strip())  # Return the plaintext, stripped of leading/trailing whitespace\n",
    "        else:\n",
    "            print(\"Element <text> not found in the XML.\")\n",
    "            return None\n",
    "    except Exception as e:\n",
    "        print(f\"An error occurred: {e}\")\n",
    "        return None\n"
   ]
  },
  {
   "cell_type": "code",
   "execution_count": null,
   "metadata": {},
   "outputs": [],
   "source": [
    "def load_extract_files(files_path, exclude_tags):\n",
    "    '''Load all files from files_path in list of dictionaries with urn, title, body of file'''\n",
    "    xml_dir = os.path.expanduser(files_path)\n",
    "    xml_paths = glob.glob(xml_dir)\n",
    "    xml_paths = [path for path in sorted(xml_paths) if '__cts__' not in path]\n",
    "    pta_dict = []\n",
    "    for xml_path in xml_paths:\n",
    "        file_dict = {}\n",
    "        short_path = \"/\".join(xml_path.split(\"/\")[9:])\n",
    "        urn = \"\".join(short_path).split(\".xml\")[0]\n",
    "        lang = urn.split(\"-\")[1]\n",
    "        if \"Ms\" in lang:\n",
    "            lang = \"Ms\"\n",
    "        else: \n",
    "            lang = re.sub(\"[0-9Bibex]\",\"\", lang)\n",
    "        with open(xml_path) as file_open:\n",
    "            plaintext = extract_plaintext_from_tei(file_open, exclude_tags)\n",
    "        try:\n",
    "            file_dict[\"urn\"] = urn\n",
    "            file_dict[\"lang\"] = lang\n",
    "            file_dict[\"text\"] = plaintext\n",
    "            pta_dict.append(file_dict)\n",
    "        except Exception as e:\n",
    "            print(f\"An error occured: {e} in {xml_path}\")\n",
    "    return pta_dict"
   ]
  },
  {
   "cell_type": "code",
   "execution_count": 177,
   "metadata": {},
   "outputs": [],
   "source": [
    "exclude_tags = [\"note\",\"rdg\"]\n",
    "severian_plaintext = load_extract_files(os.path.expanduser(\"~/Dokumente/projekte/pta_data/data/pta0001/*/*.xml\", exclude_tags))"
   ]
  },
  {
   "cell_type": "code",
   "execution_count": 185,
   "metadata": {},
   "outputs": [],
   "source": [
    "df = pd.DataFrame(severian_plaintext)"
   ]
  },
  {
   "cell_type": "code",
   "execution_count": 186,
   "metadata": {},
   "outputs": [
    {
     "data": {
      "text/html": [
       "<div>\n",
       "<style scoped>\n",
       "    .dataframe tbody tr th:only-of-type {\n",
       "        vertical-align: middle;\n",
       "    }\n",
       "\n",
       "    .dataframe tbody tr th {\n",
       "        vertical-align: top;\n",
       "    }\n",
       "\n",
       "    .dataframe thead th {\n",
       "        text-align: right;\n",
       "    }\n",
       "</style>\n",
       "<table border=\"1\" class=\"dataframe\">\n",
       "  <thead>\n",
       "    <tr style=\"text-align: right;\">\n",
       "      <th></th>\n",
       "      <th>urn</th>\n",
       "      <th>lang</th>\n",
       "      <th>text</th>\n",
       "    </tr>\n",
       "  </thead>\n",
       "  <tbody>\n",
       "    <tr>\n",
       "      <th>0</th>\n",
       "      <td>pta0001.pta001.pta-MsAb</td>\n",
       "      <td>Ms</td>\n",
       "      <td>Τοῦ αὐτοῦ ὁμιλία εἰς τὸν περι φύσεως νό μον· κ...</td>\n",
       "    </tr>\n",
       "    <tr>\n",
       "      <th>1</th>\n",
       "      <td>pta0001.pta001.pta-MsAe</td>\n",
       "      <td>Ms</td>\n",
       "      <td>Τοῦ ἐν ἁγίοις πατρὸς ἡμῶν ἰωάννου τοῦ χρυσοστό...</td>\n",
       "    </tr>\n",
       "    <tr>\n",
       "      <th>2</th>\n",
       "      <td>pta0001.pta001.pta-MsAp</td>\n",
       "      <td>Ms</td>\n",
       "      <td>Τοῦ αὐτοῦ ὁμιλία εἰς τὸν περὶ φύσεως νόμον λόγ...</td>\n",
       "    </tr>\n",
       "    <tr>\n",
       "      <th>3</th>\n",
       "      <td>pta0001.pta001.pta-MsAv</td>\n",
       "      <td>Ms</td>\n",
       "      <td>Τοῦ αὐτοῦ εἰς τὸν περὶ φύσεως νόμον πᾶσα γραφὴ...</td>\n",
       "    </tr>\n",
       "    <tr>\n",
       "      <th>4</th>\n",
       "      <td>pta0001.pta001.pta-MsBe</td>\n",
       "      <td>Ms</td>\n",
       "      <td>Τοῦ αὐτοῦ ἁγίου ἰωάννου τοῦ χρυσοστόμου. λόγος...</td>\n",
       "    </tr>\n",
       "    <tr>\n",
       "      <th>...</th>\n",
       "      <td>...</td>\n",
       "      <td>...</td>\n",
       "      <td>...</td>\n",
       "    </tr>\n",
       "    <tr>\n",
       "      <th>206</th>\n",
       "      <td>pta0001.pta066.pta-xcl1</td>\n",
       "      <td>xcl</td>\n",
       "      <td>Երանելոյն Սեբերիանոսի խօսք վասն Զատկի, Կաթարիս...</td>\n",
       "    </tr>\n",
       "    <tr>\n",
       "      <th>207</th>\n",
       "      <td>pta0001.pta067.pta-xcl1</td>\n",
       "      <td>xcl</td>\n",
       "      <td>Նորին երանելոյն Սեբերիանոսի Եմեսու եպիսկոպոսի ...</td>\n",
       "    </tr>\n",
       "    <tr>\n",
       "      <th>208</th>\n",
       "      <td>pta0001.pta068.pta-xcl1</td>\n",
       "      <td>xcl</td>\n",
       "      <td>Նորին ասացեալ 'ի սուրբ վկայն յԱկակ մարտիրոս: Ո...</td>\n",
       "    </tr>\n",
       "    <tr>\n",
       "      <th>209</th>\n",
       "      <td>pta0001.pta069.pta-xcl1</td>\n",
       "      <td>xcl</td>\n",
       "      <td>Սբյն Սեւերիանոսի Եմեսու եպիսկոպոսի 'ի գալուստ ...</td>\n",
       "    </tr>\n",
       "    <tr>\n",
       "      <th>210</th>\n",
       "      <td>pta0001.pta072.pta-grc1</td>\n",
       "      <td>grc</td>\n",
       "      <td>Ὡς ἀγνοοῦντος δὲ τοῦ κόσμου τὴν τοῦ Χριστοῦ θε...</td>\n",
       "    </tr>\n",
       "  </tbody>\n",
       "</table>\n",
       "<p>211 rows × 3 columns</p>\n",
       "</div>"
      ],
      "text/plain": [
       "                         urn lang  \\\n",
       "0    pta0001.pta001.pta-MsAb   Ms   \n",
       "1    pta0001.pta001.pta-MsAe   Ms   \n",
       "2    pta0001.pta001.pta-MsAp   Ms   \n",
       "3    pta0001.pta001.pta-MsAv   Ms   \n",
       "4    pta0001.pta001.pta-MsBe   Ms   \n",
       "..                       ...  ...   \n",
       "206  pta0001.pta066.pta-xcl1  xcl   \n",
       "207  pta0001.pta067.pta-xcl1  xcl   \n",
       "208  pta0001.pta068.pta-xcl1  xcl   \n",
       "209  pta0001.pta069.pta-xcl1  xcl   \n",
       "210  pta0001.pta072.pta-grc1  grc   \n",
       "\n",
       "                                                  text  \n",
       "0    Τοῦ αὐτοῦ ὁμιλία εἰς τὸν περι φύσεως νό μον· κ...  \n",
       "1    Τοῦ ἐν ἁγίοις πατρὸς ἡμῶν ἰωάννου τοῦ χρυσοστό...  \n",
       "2    Τοῦ αὐτοῦ ὁμιλία εἰς τὸν περὶ φύσεως νόμον λόγ...  \n",
       "3    Τοῦ αὐτοῦ εἰς τὸν περὶ φύσεως νόμον πᾶσα γραφὴ...  \n",
       "4    Τοῦ αὐτοῦ ἁγίου ἰωάννου τοῦ χρυσοστόμου. λόγος...  \n",
       "..                                                 ...  \n",
       "206  Երանելոյն Սեբերիանոսի խօսք վասն Զատկի, Կաթարիս...  \n",
       "207  Նորին երանելոյն Սեբերիանոսի Եմեսու եպիսկոպոսի ...  \n",
       "208  Նորին ասացեալ 'ի սուրբ վկայն յԱկակ մարտիրոս: Ո...  \n",
       "209  Սբյն Սեւերիանոսի Եմեսու եպիսկոպոսի 'ի գալուստ ...  \n",
       "210  Ὡς ἀγνοοῦντος δὲ τοῦ κόσμου τὴν τοῦ Χριστοῦ θε...  \n",
       "\n",
       "[211 rows x 3 columns]"
      ]
     },
     "execution_count": 186,
     "metadata": {},
     "output_type": "execute_result"
    }
   ],
   "source": [
    "df"
   ]
  },
  {
   "cell_type": "code",
   "execution_count": 189,
   "metadata": {},
   "outputs": [
    {
     "name": "stdout",
     "output_type": "stream",
     "text": [
      "DataFrame written to /home/stockhausen/Dokumente/BBAW/PTA/Workshop-Aarhus/data/severian_plaintext.csv\n"
     ]
    }
   ],
   "source": [
    "# Write the DataFrame to a CSV file in data directory\n",
    "csv_file_path = 'data/severian_plaintext.csv'\n",
    "df.to_csv(csv_file_path, index=False)\n",
    "\n",
    "print(f'DataFrame written to {csv_file_path}')"
   ]
  },
  {
   "cell_type": "markdown",
   "metadata": {},
   "source": [
    "## Quotes"
   ]
  },
  {
   "cell_type": "code",
   "execution_count": 3,
   "metadata": {},
   "outputs": [],
   "source": [
    "def extract_quotes_and_parents(tei_file):\n",
    "    \"\"\"\n",
    "    Extracts all <quote> elements and their parent elements from a TEI XML file.\n",
    "\n",
    "    Args:\n",
    "        tei_file (str): Path to the TEI XML file.\n",
    "\n",
    "    Returns:\n",
    "        list of tuples: A list containing tuples of (parent_element, quote_element).\n",
    "    \"\"\"\n",
    "    # Parse the XML file\n",
    "    tree = etree.parse(tei_file)\n",
    "    root = tree.getroot()\n",
    "\n",
    "    # Namespace handling (if needed)\n",
    "    namespaces = {'tei': 'http://www.tei-c.org/ns/1.0'}  # Adjust if your TEI XML uses a different namespace\n",
    "\n",
    "    # List to hold the results\n",
    "    results = []\n",
    "\n",
    "    # Find all elements with references (quotes and allusions)\n",
    "    for ref in root.findall(\".//tei:ref[@decls='#biblical']\", namespaces):\n",
    "        entry = {}\n",
    "        parent = ref.getparent()  # Get the parent element\n",
    "        if parent is not None:\n",
    "            entry[\"quote\"] = clean(parent.xpath('string()').strip()) # etree.tostring(parent, encoding='unicode')\n",
    "            entry[\"ref\"] = ref.get(\"cRef\") #etree.tostring(ref, encoding='unicode')\n",
    "            results.append(entry)\n",
    "\n",
    "    return results"
   ]
  },
  {
   "cell_type": "code",
   "execution_count": 4,
   "metadata": {},
   "outputs": [],
   "source": [
    "def load_extract_files_quotes(files_path):\n",
    "    '''Load all files from files_path in list of dictionaries with urn, title, body of file'''\n",
    "    xml_dir = os.path.expanduser(files_path)\n",
    "    xml_paths = glob.glob(xml_dir)\n",
    "    xml_paths = [path for path in sorted(xml_paths) if '__cts__' not in path]\n",
    "    pta_dict = []\n",
    "    for xml_path in xml_paths:\n",
    "        file_dict = {}\n",
    "        short_path = \"/\".join(xml_path.split(\"/\")[9:])\n",
    "        urn = \"\".join(short_path).split(\".xml\")[0]\n",
    "        lang = urn.split(\"-\")[1]\n",
    "        if \"Ms\" in lang:\n",
    "            lang = \"Ms\"\n",
    "        else: \n",
    "            lang = re.sub(\"[0-9]\",\"\", lang)\n",
    "            lang = lang.replace(\"Bibex\",\"\")\n",
    "        with open(xml_path) as file_open:\n",
    "            plaintext = extract_quotes_and_parents(file_open)\n",
    "        if plaintext:\n",
    "            try:\n",
    "                file_dict[\"urn\"] = urn\n",
    "                file_dict[\"lang\"] = lang\n",
    "                file_dict[\"quotes\"] = plaintext\n",
    "                pta_dict.append(file_dict)\n",
    "            except Exception as e:\n",
    "                print(f\"An error occured: {e} in {xml_path}\")\n",
    "    return pta_dict"
   ]
  },
  {
   "cell_type": "code",
   "execution_count": 5,
   "metadata": {},
   "outputs": [],
   "source": [
    "severian_quotes = load_extract_files_quotes(os.path.expanduser(\"~/Dokumente/projekte/pta_data/data/pta0001/*/*.xml\"))"
   ]
  },
  {
   "cell_type": "code",
   "execution_count": 8,
   "metadata": {},
   "outputs": [
    {
     "name": "stdout",
     "output_type": "stream",
     "text": [
      "Data has been written to data/severian_quotes.json\n"
     ]
    }
   ],
   "source": [
    "json_file_path = 'data/severian_quotes.json'\n",
    "with open(json_file_path, 'w', encoding='utf8') as json_file:\n",
    "    json.dump(severian_quotes, json_file, indent=4, ensure_ascii=False)  # indent for pretty printing\n",
    "\n",
    "print(f\"Data has been written to {json_file_path}\")"
   ]
  }
 ],
 "metadata": {
  "kernelspec": {
   "display_name": "nlp",
   "language": "python",
   "name": "python3"
  },
  "language_info": {
   "codemirror_mode": {
    "name": "ipython",
    "version": 3
   },
   "file_extension": ".py",
   "mimetype": "text/x-python",
   "name": "python",
   "nbconvert_exporter": "python",
   "pygments_lexer": "ipython3",
   "version": "3.11.10"
  }
 },
 "nbformat": 4,
 "nbformat_minor": 2
}
