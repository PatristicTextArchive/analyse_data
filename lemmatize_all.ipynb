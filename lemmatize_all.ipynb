{
 "cells": [
  {
   "cell_type": "code",
   "execution_count": 1,
   "metadata": {},
   "outputs": [],
   "source": [
    "import pandas as pd\n",
    "import spacy\n",
    "import stanza"
   ]
  },
  {
   "cell_type": "markdown",
   "metadata": {},
   "source": [
    "# Lemmatize all texts\n",
    "\n",
    "> [!IMPORTANT]\n",
    "> Needs a local installation of SpaCy and Stanza and the models used\n",
    "\n",
    "## Load data from csv"
   ]
  },
  {
   "cell_type": "code",
   "execution_count": 2,
   "metadata": {},
   "outputs": [],
   "source": [
    "df = pd.read_csv('data/severian_plaintext.csv')"
   ]
  },
  {
   "cell_type": "code",
   "execution_count": 3,
   "metadata": {},
   "outputs": [
    {
     "data": {
      "text/html": [
       "<div>\n",
       "<style scoped>\n",
       "    .dataframe tbody tr th:only-of-type {\n",
       "        vertical-align: middle;\n",
       "    }\n",
       "\n",
       "    .dataframe tbody tr th {\n",
       "        vertical-align: top;\n",
       "    }\n",
       "\n",
       "    .dataframe thead th {\n",
       "        text-align: right;\n",
       "    }\n",
       "</style>\n",
       "<table border=\"1\" class=\"dataframe\">\n",
       "  <thead>\n",
       "    <tr style=\"text-align: right;\">\n",
       "      <th></th>\n",
       "      <th>urn</th>\n",
       "      <th>lang</th>\n",
       "      <th>text</th>\n",
       "    </tr>\n",
       "  </thead>\n",
       "  <tbody>\n",
       "    <tr>\n",
       "      <th>0</th>\n",
       "      <td>pta0001.pta001.pta-MsAb</td>\n",
       "      <td>Ms</td>\n",
       "      <td>Τοῦ αὐτοῦ ὁμιλία εἰς τὸν περι φύσεως νό μον· κ...</td>\n",
       "    </tr>\n",
       "    <tr>\n",
       "      <th>1</th>\n",
       "      <td>pta0001.pta001.pta-MsAe</td>\n",
       "      <td>Ms</td>\n",
       "      <td>Τοῦ ἐν ἁγίοις πατρὸς ἡμῶν ἰωάννου τοῦ χρυσοστό...</td>\n",
       "    </tr>\n",
       "    <tr>\n",
       "      <th>2</th>\n",
       "      <td>pta0001.pta001.pta-MsAp</td>\n",
       "      <td>Ms</td>\n",
       "      <td>Τοῦ αὐτοῦ ὁμιλία εἰς τὸν περὶ φύσεως νόμον λόγ...</td>\n",
       "    </tr>\n",
       "    <tr>\n",
       "      <th>3</th>\n",
       "      <td>pta0001.pta001.pta-MsAv</td>\n",
       "      <td>Ms</td>\n",
       "      <td>Τοῦ αὐτοῦ εἰς τὸν περὶ φύσεως νόμον πᾶσα γραφὴ...</td>\n",
       "    </tr>\n",
       "    <tr>\n",
       "      <th>4</th>\n",
       "      <td>pta0001.pta001.pta-MsBe</td>\n",
       "      <td>Ms</td>\n",
       "      <td>Τοῦ αὐτοῦ ἁγίου ἰωάννου τοῦ χρυσοστόμου. λόγος...</td>\n",
       "    </tr>\n",
       "    <tr>\n",
       "      <th>...</th>\n",
       "      <td>...</td>\n",
       "      <td>...</td>\n",
       "      <td>...</td>\n",
       "    </tr>\n",
       "    <tr>\n",
       "      <th>206</th>\n",
       "      <td>pta0001.pta066.pta-xcl1</td>\n",
       "      <td>xcl</td>\n",
       "      <td>Երանելոյն Սեբերիանոսի խօսք վասն Զատկի, Կաթարիս...</td>\n",
       "    </tr>\n",
       "    <tr>\n",
       "      <th>207</th>\n",
       "      <td>pta0001.pta067.pta-xcl1</td>\n",
       "      <td>xcl</td>\n",
       "      <td>Նորին երանելոյն Սեբերիանոսի Եմեսու եպիսկոպոսի ...</td>\n",
       "    </tr>\n",
       "    <tr>\n",
       "      <th>208</th>\n",
       "      <td>pta0001.pta068.pta-xcl1</td>\n",
       "      <td>xcl</td>\n",
       "      <td>Նորին ասացեալ 'ի սուրբ վկայն յԱկակ մարտիրոս: Ո...</td>\n",
       "    </tr>\n",
       "    <tr>\n",
       "      <th>209</th>\n",
       "      <td>pta0001.pta069.pta-xcl1</td>\n",
       "      <td>xcl</td>\n",
       "      <td>Սբյն Սեւերիանոսի Եմեսու եպիսկոպոսի 'ի գալուստ ...</td>\n",
       "    </tr>\n",
       "    <tr>\n",
       "      <th>210</th>\n",
       "      <td>pta0001.pta072.pta-grc1</td>\n",
       "      <td>grc</td>\n",
       "      <td>Ὡς ἀγνοοῦντος δὲ τοῦ κόσμου τὴν τοῦ Χριστοῦ θε...</td>\n",
       "    </tr>\n",
       "  </tbody>\n",
       "</table>\n",
       "<p>211 rows × 3 columns</p>\n",
       "</div>"
      ],
      "text/plain": [
       "                         urn lang  \\\n",
       "0    pta0001.pta001.pta-MsAb   Ms   \n",
       "1    pta0001.pta001.pta-MsAe   Ms   \n",
       "2    pta0001.pta001.pta-MsAp   Ms   \n",
       "3    pta0001.pta001.pta-MsAv   Ms   \n",
       "4    pta0001.pta001.pta-MsBe   Ms   \n",
       "..                       ...  ...   \n",
       "206  pta0001.pta066.pta-xcl1  xcl   \n",
       "207  pta0001.pta067.pta-xcl1  xcl   \n",
       "208  pta0001.pta068.pta-xcl1  xcl   \n",
       "209  pta0001.pta069.pta-xcl1  xcl   \n",
       "210  pta0001.pta072.pta-grc1  grc   \n",
       "\n",
       "                                                  text  \n",
       "0    Τοῦ αὐτοῦ ὁμιλία εἰς τὸν περι φύσεως νό μον· κ...  \n",
       "1    Τοῦ ἐν ἁγίοις πατρὸς ἡμῶν ἰωάννου τοῦ χρυσοστό...  \n",
       "2    Τοῦ αὐτοῦ ὁμιλία εἰς τὸν περὶ φύσεως νόμον λόγ...  \n",
       "3    Τοῦ αὐτοῦ εἰς τὸν περὶ φύσεως νόμον πᾶσα γραφὴ...  \n",
       "4    Τοῦ αὐτοῦ ἁγίου ἰωάννου τοῦ χρυσοστόμου. λόγος...  \n",
       "..                                                 ...  \n",
       "206  Երանելոյն Սեբերիանոսի խօսք վասն Զատկի, Կաթարիս...  \n",
       "207  Նորին երանելոյն Սեբերիանոսի Եմեսու եպիսկոպոսի ...  \n",
       "208  Նորին ասացեալ 'ի սուրբ վկայն յԱկակ մարտիրոս: Ո...  \n",
       "209  Սբյն Սեւերիանոսի Եմեսու եպիսկոպոսի 'ի գալուստ ...  \n",
       "210  Ὡς ἀγνοοῦντος δὲ τοῦ κόσμου τὴν τοῦ Χριστοῦ θε...  \n",
       "\n",
       "[211 rows x 3 columns]"
      ]
     },
     "execution_count": 3,
     "metadata": {},
     "output_type": "execute_result"
    }
   ],
   "source": [
    "df"
   ]
  },
  {
   "cell_type": "markdown",
   "metadata": {},
   "source": [
    "## Load models\n",
    "- SpaCy grc_proiel_trf for Greek\n",
    "- Stanza for Latin (due to conflict in SpaCy version not possible to use LatinCy)\n",
    "- Stanza for Armenian\n",
    "- XXX for Syriac\n",
    "- Do not lemmatize manuscript transcriptions (Ms)"
   ]
  },
  {
   "cell_type": "markdown",
   "metadata": {},
   "source": [
    "### Armenian"
   ]
  },
  {
   "cell_type": "code",
   "execution_count": null,
   "metadata": {},
   "outputs": [],
   "source": [
    "#stanza.download('xcl')"
   ]
  },
  {
   "cell_type": "code",
   "execution_count": 3,
   "metadata": {},
   "outputs": [
    {
     "name": "stderr",
     "output_type": "stream",
     "text": [
      "2025-01-02 18:27:29 INFO: Checking for updates to resources.json in case models have been updated.  Note: this behavior can be turned off with download_method=None or download_method=DownloadMethod.REUSE_RESOURCES\n"
     ]
    },
    {
     "data": {
      "application/vnd.jupyter.widget-view+json": {
       "model_id": "22376c1875bc415b8e0c6a730fea8b2d",
       "version_major": 2,
       "version_minor": 0
      },
      "text/plain": [
       "Downloading https://raw.githubusercontent.com/stanfordnlp/stanza-resources/main/resources_1.10.0.json:   0%|  …"
      ]
     },
     "metadata": {},
     "output_type": "display_data"
    },
    {
     "name": "stderr",
     "output_type": "stream",
     "text": [
      "2025-01-02 18:27:29 INFO: Downloaded file to /home/stockhausen/stanza_resources/resources.json\n",
      "2025-01-02 18:27:29 INFO: Loading these models for language: xcl (Classical_Armenian):\n",
      "==============================\n",
      "| Processor | Package        |\n",
      "------------------------------\n",
      "| tokenize  | caval          |\n",
      "| mwt       | caval          |\n",
      "| pos       | caval_nocharlm |\n",
      "| lemma     | caval_nocharlm |\n",
      "| depparse  | caval_nocharlm |\n",
      "==============================\n",
      "\n",
      "2025-01-02 18:27:29 INFO: Using device: cuda\n",
      "2025-01-02 18:27:29 INFO: Loading: tokenize\n",
      "2025-01-02 18:27:31 INFO: Loading: mwt\n",
      "2025-01-02 18:27:31 INFO: Loading: pos\n",
      "2025-01-02 18:27:32 INFO: Loading: lemma\n",
      "2025-01-02 18:27:32 INFO: Loading: depparse\n",
      "2025-01-02 18:27:33 INFO: Done loading processors!\n"
     ]
    }
   ],
   "source": [
    "nlp_xcl = stanza.Pipeline('xcl') "
   ]
  },
  {
   "cell_type": "markdown",
   "metadata": {},
   "source": [
    "### Greek"
   ]
  },
  {
   "cell_type": "code",
   "execution_count": 4,
   "metadata": {},
   "outputs": [
    {
     "name": "stderr",
     "output_type": "stream",
     "text": [
      "/home/stockhausen/miniforge3/envs/spacy/lib/python3.11/site-packages/spacy_transformers/layers/hf_shim.py:118: FutureWarning: You are using `torch.load` with `weights_only=False` (the current default value), which uses the default pickle module implicitly. It is possible to construct malicious pickle data which will execute arbitrary code during unpickling (See https://github.com/pytorch/pytorch/blob/main/SECURITY.md#untrusted-models for more details). In a future release, the default value for `weights_only` will be flipped to `True`. This limits the functions that could be executed during unpickling. Arbitrary objects will no longer be allowed to be loaded via this mode unless they are explicitly allowlisted by the user via `torch.serialization.add_safe_globals`. We recommend you start setting `weights_only=True` for any use case where you don't have full control of the loaded file. Please open an issue on GitHub for any issues related to this experimental feature.\n",
      "  self._model.load_state_dict(torch.load(filelike, map_location=device))\n"
     ]
    }
   ],
   "source": [
    "nlp_grc = spacy.load(\"grc_proiel_trf\")"
   ]
  },
  {
   "cell_type": "markdown",
   "metadata": {},
   "source": [
    "### Latin"
   ]
  },
  {
   "cell_type": "code",
   "execution_count": null,
   "metadata": {},
   "outputs": [],
   "source": [
    "#stanza.download('la')"
   ]
  },
  {
   "cell_type": "code",
   "execution_count": 5,
   "metadata": {},
   "outputs": [
    {
     "name": "stderr",
     "output_type": "stream",
     "text": [
      "2025-01-02 18:27:54 INFO: Checking for updates to resources.json in case models have been updated.  Note: this behavior can be turned off with download_method=None or download_method=DownloadMethod.REUSE_RESOURCES\n"
     ]
    },
    {
     "data": {
      "application/vnd.jupyter.widget-view+json": {
       "model_id": "5c1678330bdf407e969aec974e48be76",
       "version_major": 2,
       "version_minor": 0
      },
      "text/plain": [
       "Downloading https://raw.githubusercontent.com/stanfordnlp/stanza-resources/main/resources_1.10.0.json:   0%|  …"
      ]
     },
     "metadata": {},
     "output_type": "display_data"
    },
    {
     "name": "stderr",
     "output_type": "stream",
     "text": [
      "2025-01-02 18:27:54 INFO: Downloaded file to /home/stockhausen/stanza_resources/resources.json\n",
      "2025-01-02 18:27:55 INFO: Loading these models for language: la (Latin):\n",
      "=============================\n",
      "| Processor | Package       |\n",
      "-----------------------------\n",
      "| tokenize  | ittb          |\n",
      "| mwt       | ittb          |\n",
      "| pos       | ittb_nocharlm |\n",
      "| lemma     | ittb_nocharlm |\n",
      "| depparse  | ittb_nocharlm |\n",
      "=============================\n",
      "\n",
      "2025-01-02 18:27:55 INFO: Using device: cuda\n",
      "2025-01-02 18:27:55 INFO: Loading: tokenize\n",
      "2025-01-02 18:27:55 INFO: Loading: mwt\n",
      "2025-01-02 18:27:55 INFO: Loading: pos\n",
      "2025-01-02 18:27:57 INFO: Loading: lemma\n",
      "2025-01-02 18:27:58 INFO: Loading: depparse\n",
      "2025-01-02 18:27:58 INFO: Done loading processors!\n"
     ]
    }
   ],
   "source": [
    "nlp_lat = stanza.Pipeline('la')"
   ]
  },
  {
   "cell_type": "markdown",
   "metadata": {},
   "source": [
    "### Syriac\n",
    "\n",
    "tbd."
   ]
  },
  {
   "cell_type": "markdown",
   "metadata": {},
   "source": [
    "## Lemmatize"
   ]
  },
  {
   "cell_type": "code",
   "execution_count": 6,
   "metadata": {},
   "outputs": [],
   "source": [
    "def lemmatize_text(text, lang):\n",
    "    # without stopwords in grc\n",
    "    if lang == 'grc':\n",
    "        nlp = nlp_grc\n",
    "        doc = nlp(text)\n",
    "        lemmatized = \" \".join([token.lemma_ for token in doc if not token.is_stop])\n",
    "    elif lang == 'lat':\n",
    "        doc = nlp_lat(text)\n",
    "        lemmatized = \" \".join([word.lemma for sentence in doc.sentences for word in sentence.words])\n",
    "    elif lang == 'xcl':\n",
    "        doc = nlp_xcl(text)\n",
    "        lemmatized = \" \".join([word.lemma for sentence in doc.sentences for word in sentence.words])\n",
    "    else:\n",
    "        return \"\"\n",
    "    return lemmatized"
   ]
  },
  {
   "cell_type": "code",
   "execution_count": 7,
   "metadata": {},
   "outputs": [],
   "source": [
    "# Apply the lemmatization function\n",
    "df['lemmatized_text'] = df.apply(lambda row: lemmatize_text(row['text'], row['lang']), axis=1)"
   ]
  },
  {
   "cell_type": "code",
   "execution_count": 8,
   "metadata": {},
   "outputs": [
    {
     "data": {
      "text/html": [
       "<div>\n",
       "<style scoped>\n",
       "    .dataframe tbody tr th:only-of-type {\n",
       "        vertical-align: middle;\n",
       "    }\n",
       "\n",
       "    .dataframe tbody tr th {\n",
       "        vertical-align: top;\n",
       "    }\n",
       "\n",
       "    .dataframe thead th {\n",
       "        text-align: right;\n",
       "    }\n",
       "</style>\n",
       "<table border=\"1\" class=\"dataframe\">\n",
       "  <thead>\n",
       "    <tr style=\"text-align: right;\">\n",
       "      <th></th>\n",
       "      <th>urn</th>\n",
       "      <th>lang</th>\n",
       "      <th>text</th>\n",
       "      <th>lemmatized_text</th>\n",
       "    </tr>\n",
       "  </thead>\n",
       "  <tbody>\n",
       "    <tr>\n",
       "      <th>0</th>\n",
       "      <td>pta0001.pta001.pta-MsAb</td>\n",
       "      <td>Ms</td>\n",
       "      <td>Τοῦ αὐτοῦ ὁμιλία εἰς τὸν περι φύσεως νό μον· κ...</td>\n",
       "      <td></td>\n",
       "    </tr>\n",
       "    <tr>\n",
       "      <th>1</th>\n",
       "      <td>pta0001.pta001.pta-MsAe</td>\n",
       "      <td>Ms</td>\n",
       "      <td>Τοῦ ἐν ἁγίοις πατρὸς ἡμῶν ἰωάννου τοῦ χρυσοστό...</td>\n",
       "      <td></td>\n",
       "    </tr>\n",
       "    <tr>\n",
       "      <th>2</th>\n",
       "      <td>pta0001.pta001.pta-MsAp</td>\n",
       "      <td>Ms</td>\n",
       "      <td>Τοῦ αὐτοῦ ὁμιλία εἰς τὸν περὶ φύσεως νόμον λόγ...</td>\n",
       "      <td></td>\n",
       "    </tr>\n",
       "    <tr>\n",
       "      <th>3</th>\n",
       "      <td>pta0001.pta001.pta-MsAv</td>\n",
       "      <td>Ms</td>\n",
       "      <td>Τοῦ αὐτοῦ εἰς τὸν περὶ φύσεως νόμον πᾶσα γραφὴ...</td>\n",
       "      <td></td>\n",
       "    </tr>\n",
       "    <tr>\n",
       "      <th>4</th>\n",
       "      <td>pta0001.pta001.pta-MsBe</td>\n",
       "      <td>Ms</td>\n",
       "      <td>Τοῦ αὐτοῦ ἁγίου ἰωάννου τοῦ χρυσοστόμου. λόγος...</td>\n",
       "      <td></td>\n",
       "    </tr>\n",
       "    <tr>\n",
       "      <th>...</th>\n",
       "      <td>...</td>\n",
       "      <td>...</td>\n",
       "      <td>...</td>\n",
       "      <td>...</td>\n",
       "    </tr>\n",
       "    <tr>\n",
       "      <th>206</th>\n",
       "      <td>pta0001.pta066.pta-xcl1</td>\n",
       "      <td>xcl</td>\n",
       "      <td>Երանելոյն Սեբերիանոսի խօսք վասն Զատկի, Կաթարիս...</td>\n",
       "      <td>երանել ն Սեբերիանոս խօս վասն Զատկիս , Կաթարէս ...</td>\n",
       "    </tr>\n",
       "    <tr>\n",
       "      <th>207</th>\n",
       "      <td>pta0001.pta067.pta-xcl1</td>\n",
       "      <td>xcl</td>\n",
       "      <td>Նորին երանելոյն Սեբերիանոսի Եմեսու եպիսկոպոսի ...</td>\n",
       "      <td>նոյն երանել ն Սեբերիանոս Եմեսու եպիսկոպ ասել '...</td>\n",
       "    </tr>\n",
       "    <tr>\n",
       "      <th>208</th>\n",
       "      <td>pta0001.pta068.pta-xcl1</td>\n",
       "      <td>xcl</td>\n",
       "      <td>Նորին ասացեալ 'ի սուրբ վկայն յԱկակ մարտիրոս: Ո...</td>\n",
       "      <td>նոյն ասել 'ի սուրբ վկայ ն ի ակակ մարտիր : ուր ...</td>\n",
       "    </tr>\n",
       "    <tr>\n",
       "      <th>209</th>\n",
       "      <td>pta0001.pta069.pta-xcl1</td>\n",
       "      <td>xcl</td>\n",
       "      <td>Սբյն Սեւերիանոսի Եմեսու եպիսկոպոսի 'ի գալուստ ...</td>\n",
       "      <td>Սբթն Սեւերիանոս Եմեսու եպիսկոպ 'ի գալուստ տն յ...</td>\n",
       "    </tr>\n",
       "    <tr>\n",
       "      <th>210</th>\n",
       "      <td>pta0001.pta072.pta-grc1</td>\n",
       "      <td>grc</td>\n",
       "      <td>Ὡς ἀγνοοῦντος δὲ τοῦ κόσμου τὴν τοῦ Χριστοῦ θε...</td>\n",
       "      <td>ἀγνοέω κόσμος Χριστός θεότης κηρύσσω . δήποτε ...</td>\n",
       "    </tr>\n",
       "  </tbody>\n",
       "</table>\n",
       "<p>211 rows × 4 columns</p>\n",
       "</div>"
      ],
      "text/plain": [
       "                         urn lang  \\\n",
       "0    pta0001.pta001.pta-MsAb   Ms   \n",
       "1    pta0001.pta001.pta-MsAe   Ms   \n",
       "2    pta0001.pta001.pta-MsAp   Ms   \n",
       "3    pta0001.pta001.pta-MsAv   Ms   \n",
       "4    pta0001.pta001.pta-MsBe   Ms   \n",
       "..                       ...  ...   \n",
       "206  pta0001.pta066.pta-xcl1  xcl   \n",
       "207  pta0001.pta067.pta-xcl1  xcl   \n",
       "208  pta0001.pta068.pta-xcl1  xcl   \n",
       "209  pta0001.pta069.pta-xcl1  xcl   \n",
       "210  pta0001.pta072.pta-grc1  grc   \n",
       "\n",
       "                                                  text  \\\n",
       "0    Τοῦ αὐτοῦ ὁμιλία εἰς τὸν περι φύσεως νό μον· κ...   \n",
       "1    Τοῦ ἐν ἁγίοις πατρὸς ἡμῶν ἰωάννου τοῦ χρυσοστό...   \n",
       "2    Τοῦ αὐτοῦ ὁμιλία εἰς τὸν περὶ φύσεως νόμον λόγ...   \n",
       "3    Τοῦ αὐτοῦ εἰς τὸν περὶ φύσεως νόμον πᾶσα γραφὴ...   \n",
       "4    Τοῦ αὐτοῦ ἁγίου ἰωάννου τοῦ χρυσοστόμου. λόγος...   \n",
       "..                                                 ...   \n",
       "206  Երանելոյն Սեբերիանոսի խօսք վասն Զատկի, Կաթարիս...   \n",
       "207  Նորին երանելոյն Սեբերիանոսի Եմեսու եպիսկոպոսի ...   \n",
       "208  Նորին ասացեալ 'ի սուրբ վկայն յԱկակ մարտիրոս: Ո...   \n",
       "209  Սբյն Սեւերիանոսի Եմեսու եպիսկոպոսի 'ի գալուստ ...   \n",
       "210  Ὡς ἀγνοοῦντος δὲ τοῦ κόσμου τὴν τοῦ Χριστοῦ θε...   \n",
       "\n",
       "                                       lemmatized_text  \n",
       "0                                                       \n",
       "1                                                       \n",
       "2                                                       \n",
       "3                                                       \n",
       "4                                                       \n",
       "..                                                 ...  \n",
       "206  երանել ն Սեբերիանոս խօս վասն Զատկիս , Կաթարէս ...  \n",
       "207  նոյն երանել ն Սեբերիանոս Եմեսու եպիսկոպ ասել '...  \n",
       "208  նոյն ասել 'ի սուրբ վկայ ն ի ակակ մարտիր : ուր ...  \n",
       "209  Սբթն Սեւերիանոս Եմեսու եպիսկոպ 'ի գալուստ տն յ...  \n",
       "210  ἀγνοέω κόσμος Χριστός θεότης κηρύσσω . δήποτε ...  \n",
       "\n",
       "[211 rows x 4 columns]"
      ]
     },
     "execution_count": 8,
     "metadata": {},
     "output_type": "execute_result"
    }
   ],
   "source": [
    "df"
   ]
  },
  {
   "cell_type": "markdown",
   "metadata": {},
   "source": [
    "## Write results to a new csv file"
   ]
  },
  {
   "cell_type": "code",
   "execution_count": 9,
   "metadata": {},
   "outputs": [
    {
     "name": "stdout",
     "output_type": "stream",
     "text": [
      "DataFrame written to data/severian_plaintext_lemmatized.csv\n"
     ]
    }
   ],
   "source": [
    "# Write the DataFrame to a CSV file in data directory\n",
    "csv_file_path = 'data/severian_plaintext_lemmatized.csv'\n",
    "df.to_csv(csv_file_path, index=False)\n",
    "\n",
    "print(f'DataFrame written to {csv_file_path}')"
   ]
  }
 ],
 "metadata": {
  "kernelspec": {
   "display_name": "spacy",
   "language": "python",
   "name": "python3"
  },
  "language_info": {
   "codemirror_mode": {
    "name": "ipython",
    "version": 3
   },
   "file_extension": ".py",
   "mimetype": "text/x-python",
   "name": "python",
   "nbconvert_exporter": "python",
   "pygments_lexer": "ipython3",
   "version": "3.11.9"
  }
 },
 "nbformat": 4,
 "nbformat_minor": 2
}
